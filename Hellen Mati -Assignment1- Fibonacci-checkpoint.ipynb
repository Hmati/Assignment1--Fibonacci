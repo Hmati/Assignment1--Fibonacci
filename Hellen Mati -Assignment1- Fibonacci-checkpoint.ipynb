{
 "cells": [
  {
   "cell_type": "markdown",
   "id": "4e5c75d7",
   "metadata": {},
   "source": [
    "# Create a function that checks if the entered number is fibonacci"
   ]
  },
  {
   "cell_type": "markdown",
   "id": "0e4a4b86",
   "metadata": {},
   "source": [
    "A number is Fibonacci if and only if 5n^2 + 4 or 5n^2 – 4 is a perfect square.\n",
    "\n",
    "Functional implementation of the approach: \n",
    "\n",
    "A utility function that will return true\n",
    "if the number is perfect square, else this\n",
    "will return false\n",
    "\n",
    "def isPerfectSquare(num):\n",
    " finding the square root of num\n",
    "s =int(math.sqrt(num))\n",
    "return s*s == num\n",
    "\n",
    "def isFibonacciNumber(n):\n",
    "#return true if the number is fibonacci otherwise\n",
    "#return false\n",
    "return isPerfectSquare(5nn + 4) or isPerfectSquare(5nn – 4)"
   ]
  },
  {
   "cell_type": "code",
   "execution_count": 1,
   "id": "c344d81f",
   "metadata": {},
   "outputs": [
    {
     "name": "stdout",
     "output_type": "stream",
     "text": [
      "Enter the number to check if its  Fibonacci : 8\n",
      "8 : The Number is Fibonacci\n"
     ]
    }
   ],
   "source": [
    "#python has also a built-in module called math, which extends the list of mathematical functions.\n",
    "\n",
    "import math\n",
    " \n",
    "# A number is Fibonacci if and only if 5n^2 + 4 or 5n^2 – 4 is a perfect square.\n",
    "#We Finding the squareroot of the number \n",
    "    \n",
    "def PerfectSquare(num):\n",
    "    s =int(math.sqrt(num))\n",
    "    return s*s == num\n",
    "\n",
    "\n",
    "# return true if the number is fibonacci otherwise return false\n",
    " \n",
    "\n",
    "def FibonacciNumber(n):\n",
    "        return PerfectSquare(5*n*n + 4) or PerfectSquare(5*n*n - 4)\n",
    " \n",
    " \n",
    "Number = int(input(\"Enter the number to check if its  Fibonacci : \"))\n",
    "\n",
    "if( FibonacciNumber (Number) == True):\n",
    "    print(Number , \": The Number is Fibonacci\")\n",
    "else:\n",
    "    print(Number  ,\" : The Number is NOT  Fibonacci\")"
   ]
  },
  {
   "cell_type": "code",
   "execution_count": null,
   "id": "619efc1c",
   "metadata": {},
   "outputs": [],
   "source": []
  },
  {
   "cell_type": "code",
   "execution_count": null,
   "id": "a40392fc",
   "metadata": {},
   "outputs": [],
   "source": []
  },
  {
   "cell_type": "code",
   "execution_count": null,
   "id": "7e8737c5",
   "metadata": {},
   "outputs": [],
   "source": []
  }
 ],
 "metadata": {
  "kernelspec": {
   "display_name": "Python 3",
   "language": "python",
   "name": "python3"
  },
  "language_info": {
   "codemirror_mode": {
    "name": "ipython",
    "version": 3
   },
   "file_extension": ".py",
   "mimetype": "text/x-python",
   "name": "python",
   "nbconvert_exporter": "python",
   "pygments_lexer": "ipython3",
   "version": "3.8.8"
  }
 },
 "nbformat": 4,
 "nbformat_minor": 5
}
